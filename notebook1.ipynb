{
 "cells": [
  {
   "cell_type": "markdown",
   "id": "fbfa5687-e040-4481-8d1f-05110a398037",
   "metadata": {},
   "source": [
    "# 🚢 Titanic Survival Prediction\n",
    "\n",
    "**Goal:**  \n",
    "Build a simple machine learning model that predicts the probability of survival for Titanic passengers using demographic and travel information.\n",
    "\n",
    "**Dataset source:**  \n",
    "[Kaggle Titanic: Machine Learning from Disaster](https://www.kaggle.com/datasets/yasserh/titanic-dataset?resource=download)\n",
    "\n",
    "We will:\n",
    "1. Load and explore the dataset.  \n",
    "2. Clean missing data and engineer simple features.  \n",
    "3. Train a Logistic Regression model.  \n",
    "4. Expose a function `predict_survival()` that predicts survival probability for a given passenger.\n"
   ]
  },
  {
   "cell_type": "code",
   "execution_count": 20,
   "id": "25c7717b-955e-4662-bd3e-f507d0623f26",
   "metadata": {},
   "outputs": [
    {
     "name": "stdout",
     "output_type": "stream",
     "text": [
      "pandas: 2.3.3 numpy: 2.3.3\n"
     ]
    },
    {
     "data": {
      "text/html": [
       "<div>\n",
       "<style scoped>\n",
       "    .dataframe tbody tr th:only-of-type {\n",
       "        vertical-align: middle;\n",
       "    }\n",
       "\n",
       "    .dataframe tbody tr th {\n",
       "        vertical-align: top;\n",
       "    }\n",
       "\n",
       "    .dataframe thead th {\n",
       "        text-align: right;\n",
       "    }\n",
       "</style>\n",
       "<table border=\"1\" class=\"dataframe\">\n",
       "  <thead>\n",
       "    <tr style=\"text-align: right;\">\n",
       "      <th></th>\n",
       "      <th>PassengerId</th>\n",
       "      <th>Survived</th>\n",
       "      <th>Pclass</th>\n",
       "      <th>Name</th>\n",
       "      <th>Sex</th>\n",
       "      <th>Age</th>\n",
       "      <th>SibSp</th>\n",
       "      <th>Parch</th>\n",
       "      <th>Ticket</th>\n",
       "      <th>Fare</th>\n",
       "      <th>Cabin</th>\n",
       "      <th>Embarked</th>\n",
       "    </tr>\n",
       "  </thead>\n",
       "  <tbody>\n",
       "    <tr>\n",
       "      <th>0</th>\n",
       "      <td>1</td>\n",
       "      <td>0</td>\n",
       "      <td>3</td>\n",
       "      <td>Braund, Mr. Owen Harris</td>\n",
       "      <td>male</td>\n",
       "      <td>22.0</td>\n",
       "      <td>1</td>\n",
       "      <td>0</td>\n",
       "      <td>A/5 21171</td>\n",
       "      <td>7.2500</td>\n",
       "      <td>NaN</td>\n",
       "      <td>S</td>\n",
       "    </tr>\n",
       "    <tr>\n",
       "      <th>1</th>\n",
       "      <td>2</td>\n",
       "      <td>1</td>\n",
       "      <td>1</td>\n",
       "      <td>Cumings, Mrs. John Bradley (Florence Briggs Th...</td>\n",
       "      <td>female</td>\n",
       "      <td>38.0</td>\n",
       "      <td>1</td>\n",
       "      <td>0</td>\n",
       "      <td>PC 17599</td>\n",
       "      <td>71.2833</td>\n",
       "      <td>C85</td>\n",
       "      <td>C</td>\n",
       "    </tr>\n",
       "    <tr>\n",
       "      <th>2</th>\n",
       "      <td>3</td>\n",
       "      <td>1</td>\n",
       "      <td>3</td>\n",
       "      <td>Heikkinen, Miss. Laina</td>\n",
       "      <td>female</td>\n",
       "      <td>26.0</td>\n",
       "      <td>0</td>\n",
       "      <td>0</td>\n",
       "      <td>STON/O2. 3101282</td>\n",
       "      <td>7.9250</td>\n",
       "      <td>NaN</td>\n",
       "      <td>S</td>\n",
       "    </tr>\n",
       "    <tr>\n",
       "      <th>3</th>\n",
       "      <td>4</td>\n",
       "      <td>1</td>\n",
       "      <td>1</td>\n",
       "      <td>Futrelle, Mrs. Jacques Heath (Lily May Peel)</td>\n",
       "      <td>female</td>\n",
       "      <td>35.0</td>\n",
       "      <td>1</td>\n",
       "      <td>0</td>\n",
       "      <td>113803</td>\n",
       "      <td>53.1000</td>\n",
       "      <td>C123</td>\n",
       "      <td>S</td>\n",
       "    </tr>\n",
       "    <tr>\n",
       "      <th>4</th>\n",
       "      <td>5</td>\n",
       "      <td>0</td>\n",
       "      <td>3</td>\n",
       "      <td>Allen, Mr. William Henry</td>\n",
       "      <td>male</td>\n",
       "      <td>35.0</td>\n",
       "      <td>0</td>\n",
       "      <td>0</td>\n",
       "      <td>373450</td>\n",
       "      <td>8.0500</td>\n",
       "      <td>NaN</td>\n",
       "      <td>S</td>\n",
       "    </tr>\n",
       "  </tbody>\n",
       "</table>\n",
       "</div>"
      ],
      "text/plain": [
       "   PassengerId  Survived  Pclass  \\\n",
       "0            1         0       3   \n",
       "1            2         1       1   \n",
       "2            3         1       3   \n",
       "3            4         1       1   \n",
       "4            5         0       3   \n",
       "\n",
       "                                                Name     Sex   Age  SibSp  \\\n",
       "0                            Braund, Mr. Owen Harris    male  22.0      1   \n",
       "1  Cumings, Mrs. John Bradley (Florence Briggs Th...  female  38.0      1   \n",
       "2                             Heikkinen, Miss. Laina  female  26.0      0   \n",
       "3       Futrelle, Mrs. Jacques Heath (Lily May Peel)  female  35.0      1   \n",
       "4                           Allen, Mr. William Henry    male  35.0      0   \n",
       "\n",
       "   Parch            Ticket     Fare Cabin Embarked  \n",
       "0      0         A/5 21171   7.2500   NaN        S  \n",
       "1      0          PC 17599  71.2833   C85        C  \n",
       "2      0  STON/O2. 3101282   7.9250   NaN        S  \n",
       "3      0            113803  53.1000  C123        S  \n",
       "4      0            373450   8.0500   NaN        S  "
      ]
     },
     "execution_count": 20,
     "metadata": {},
     "output_type": "execute_result"
    }
   ],
   "source": [
    "# Setup imports, seed, and versions\n",
    "import numpy as np\n",
    "import pandas as pd\n",
    "import matplotlib.pyplot as plt\n",
    "import seaborn as sns\n",
    "import joblib\n",
    "\n",
    "from sklearn.model_selection import train_test_split, GridSearchCV, StratifiedKFold, cross_val_score\n",
    "from sklearn.pipeline import Pipeline\n",
    "from sklearn.compose import ColumnTransformer\n",
    "from sklearn.impute import SimpleImputer\n",
    "from sklearn.preprocessing import OneHotEncoder, StandardScaler, FunctionTransformer\n",
    "from sklearn.linear_model import LogisticRegression\n",
    "from sklearn.ensemble import RandomForestClassifier\n",
    "from sklearn.metrics import (accuracy_score, precision_score, recall_score, f1_score,\n",
    "                             roc_auc_score, confusion_matrix, RocCurveDisplay)\n",
    "\n",
    "np.random.seed(42)\n",
    "print(\"pandas:\", pd.__version__, \"numpy:\", np.__version__)\n",
    "\n",
    "# Load dataset (assumes file named 'train.csv' in repo or same folder)\n",
    "df = pd.read_csv(\"train.csv\")  # replace path if needed\n",
    "df.head()\n",
    "\n"
   ]
  },
  {
   "cell_type": "code",
   "execution_count": 21,
   "id": "965db57d-a779-4df7-be72-4632dea595cc",
   "metadata": {},
   "outputs": [
    {
     "name": "stdout",
     "output_type": "stream",
     "text": [
      "<class 'pandas.core.frame.DataFrame'>\n",
      "RangeIndex: 891 entries, 0 to 890\n",
      "Data columns (total 12 columns):\n",
      " #   Column       Non-Null Count  Dtype  \n",
      "---  ------       --------------  -----  \n",
      " 0   PassengerId  891 non-null    int64  \n",
      " 1   Survived     891 non-null    int64  \n",
      " 2   Pclass       891 non-null    int64  \n",
      " 3   Name         891 non-null    object \n",
      " 4   Sex          891 non-null    object \n",
      " 5   Age          714 non-null    float64\n",
      " 6   SibSp        891 non-null    int64  \n",
      " 7   Parch        891 non-null    int64  \n",
      " 8   Ticket       891 non-null    object \n",
      " 9   Fare         891 non-null    float64\n",
      " 10  Cabin        204 non-null    object \n",
      " 11  Embarked     889 non-null    object \n",
      "dtypes: float64(2), int64(5), object(5)\n",
      "memory usage: 83.7+ KB\n",
      "\n",
      "Shape: (891, 12)\n",
      "\n",
      "Target distribution (Survived):\n",
      "Survived\n",
      "0    549\n",
      "1    342\n",
      "Name: count, dtype: int64\n",
      "\n",
      "Normalized:\n",
      "Survived\n",
      "0    0.616162\n",
      "1    0.383838\n",
      "Name: proportion, dtype: float64\n"
     ]
    }
   ],
   "source": [
    "df.info()\n",
    "print(\"\\nShape:\", df.shape)\n",
    "print(\"\\nTarget distribution (Survived):\")\n",
    "print(df['Survived'].value_counts())\n",
    "print(\"\\nNormalized:\")\n",
    "print(df['Survived'].value_counts(normalize=True))\n"
   ]
  },
  {
   "cell_type": "code",
   "execution_count": 22,
   "id": "2e136a23-681d-46a4-9029-60fb53763607",
   "metadata": {},
   "outputs": [
    {
     "data": {
      "image/png": "[encoded data removed]",
      "text/plain": [
       "<Figure size 640x480 with 1 Axes>"
      ]
     },
     "metadata": {},
     "output_type": "display_data"
    },
    {
     "data": {
      "image/png": "[encoded data removed]",
      "text/plain": [
       "<Figure size 640x480 with 1 Axes>"
      ]
     },
     "metadata": {},
     "output_type": "display_data"
    },
    {
     "data": {
      "image/png": "[encoded data removed]",
      "text/plain": [
       "<Figure size 640x480 with 1 Axes>"
      ]
     },
     "metadata": {},
     "output_type": "display_data"
    }
   ],
   "source": [
    "# Plots: survival by sex and Pclass and age distribution\n",
    "sns.countplot(x='Survived', hue='Sex', data=df)\n",
    "plt.title(\"Survival by sex\")\n",
    "plt.show()\n",
    "\n",
    "sns.countplot(x='Pclass', hue='Survived', data=df)\n",
    "plt.title(\"Survival by Pclass\")\n",
    "plt.show()\n",
    "\n",
    "plt.figure()\n",
    "sns.histplot(df['Age'].dropna(), bins=30, kde=True)\n",
    "plt.title(\"Age distribution (non-missing)\")\n",
    "plt.show()\n"
   ]
  },
  {
   "cell_type": "code",
   "execution_count": 23,
   "id": "1ac44da9-df93-444d-8282-2576a1a0fa31",
   "metadata": {},
   "outputs": [
    {
     "data": {
      "text/plain": [
       "Cabin       687\n",
       "Age         177\n",
       "Embarked      2\n",
       "dtype: int64"
      ]
     },
     "execution_count": 23,
     "metadata": {},
     "output_type": "execute_result"
    }
   ],
   "source": [
    "missing = df.isnull().sum().sort_values(ascending=False)\n",
    "missing[missing > 0]\n"
   ]
  },
  {
   "cell_type": "markdown",
   "id": "d8628cba-f7c1-41cc-af8e-f7821dbf809f",
   "metadata": {},
   "source": [
    "Planned simple features (3-6):\n",
    "- Sex -> binary (male=1, female=0)\n",
    "- Age -> fill missing with median, feature `IsChild` (Age < 12)\n",
    "- FamilySize = SibSp + Parch + 1 (and small/large indicator)\n",
    "- Title extracted from Name (Mr, Mrs, Miss, Master, Other)\n",
    "- Fare -> log1p transform (or bucket later)\n",
    "- Pclass -> treat as categorical (one-hot)\n",
    "We will keep features compact for readability.\n"
   ]
  },
  {
   "cell_type": "code",
   "execution_count": 24,
   "id": "d9182cdd-e73e-4bfc-a3db-08645a17e67a",
   "metadata": {},
   "outputs": [
    {
     "data": {
      "text/html": [
       "<div>\n",
       "<style scoped>\n",
       "    .dataframe tbody tr th:only-of-type {\n",
       "        vertical-align: middle;\n",
       "    }\n",
       "\n",
       "    .dataframe tbody tr th {\n",
       "        vertical-align: top;\n",
       "    }\n",
       "\n",
       "    .dataframe thead th {\n",
       "        text-align: right;\n",
       "    }\n",
       "</style>\n",
       "<table border=\"1\" class=\"dataframe\">\n",
       "  <thead>\n",
       "    <tr style=\"text-align: right;\">\n",
       "      <th></th>\n",
       "      <th>Survived</th>\n",
       "      <th>Pclass</th>\n",
       "      <th>Sex</th>\n",
       "      <th>Age</th>\n",
       "      <th>SibSp</th>\n",
       "      <th>Parch</th>\n",
       "      <th>Fare</th>\n",
       "      <th>Embarked</th>\n",
       "      <th>Title</th>\n",
       "      <th>FamilySize</th>\n",
       "      <th>IsAlone</th>\n",
       "      <th>LargeFamily</th>\n",
       "      <th>Fare_log1p</th>\n",
       "      <th>IsChild</th>\n",
       "    </tr>\n",
       "  </thead>\n",
       "  <tbody>\n",
       "    <tr>\n",
       "      <th>0</th>\n",
       "      <td>0</td>\n",
       "      <td>3</td>\n",
       "      <td>1</td>\n",
       "      <td>22.0</td>\n",
       "      <td>1</td>\n",
       "      <td>0</td>\n",
       "      <td>7.2500</td>\n",
       "      <td>S</td>\n",
       "      <td>Mr</td>\n",
       "      <td>2</td>\n",
       "      <td>0</td>\n",
       "      <td>0</td>\n",
       "      <td>2.110213</td>\n",
       "      <td>0</td>\n",
       "    </tr>\n",
       "    <tr>\n",
       "      <th>1</th>\n",
       "      <td>1</td>\n",
       "      <td>1</td>\n",
       "      <td>0</td>\n",
       "      <td>38.0</td>\n",
       "      <td>1</td>\n",
       "      <td>0</td>\n",
       "      <td>71.2833</td>\n",
       "      <td>C</td>\n",
       "      <td>Mrs</td>\n",
       "      <td>2</td>\n",
       "      <td>0</td>\n",
       "      <td>0</td>\n",
       "      <td>4.280593</td>\n",
       "      <td>0</td>\n",
       "    </tr>\n",
       "    <tr>\n",
       "      <th>2</th>\n",
       "      <td>1</td>\n",
       "      <td>3</td>\n",
       "      <td>0</td>\n",
       "      <td>26.0</td>\n",
       "      <td>0</td>\n",
       "      <td>0</td>\n",
       "      <td>7.9250</td>\n",
       "      <td>S</td>\n",
       "      <td>Miss</td>\n",
       "      <td>1</td>\n",
       "      <td>1</td>\n",
       "      <td>0</td>\n",
       "      <td>2.188856</td>\n",
       "      <td>0</td>\n",
       "    </tr>\n",
       "    <tr>\n",
       "      <th>3</th>\n",
       "      <td>1</td>\n",
       "      <td>1</td>\n",
       "      <td>0</td>\n",
       "      <td>35.0</td>\n",
       "      <td>1</td>\n",
       "      <td>0</td>\n",
       "      <td>53.1000</td>\n",
       "      <td>S</td>\n",
       "      <td>Mrs</td>\n",
       "      <td>2</td>\n",
       "      <td>0</td>\n",
       "      <td>0</td>\n",
       "      <td>3.990834</td>\n",
       "      <td>0</td>\n",
       "    </tr>\n",
       "    <tr>\n",
       "      <th>4</th>\n",
       "      <td>0</td>\n",
       "      <td>3</td>\n",
       "      <td>1</td>\n",
       "      <td>35.0</td>\n",
       "      <td>0</td>\n",
       "      <td>0</td>\n",
       "      <td>8.0500</td>\n",
       "      <td>S</td>\n",
       "      <td>Mr</td>\n",
       "      <td>1</td>\n",
       "      <td>1</td>\n",
       "      <td>0</td>\n",
       "      <td>2.202765</td>\n",
       "      <td>0</td>\n",
       "    </tr>\n",
       "  </tbody>\n",
       "</table>\n",
       "</div>"
      ],
      "text/plain": [
       "   Survived  Pclass  Sex   Age  SibSp  Parch     Fare Embarked Title  \\\n",
       "0         0       3    1  22.0      1      0   7.2500        S    Mr   \n",
       "1         1       1    0  38.0      1      0  71.2833        C   Mrs   \n",
       "2         1       3    0  26.0      0      0   7.9250        S  Miss   \n",
       "3         1       1    0  35.0      1      0  53.1000        S   Mrs   \n",
       "4         0       3    1  35.0      0      0   8.0500        S    Mr   \n",
       "\n",
       "   FamilySize  IsAlone  LargeFamily  Fare_log1p  IsChild  \n",
       "0           2        0            0    2.110213        0  \n",
       "1           2        0            0    4.280593        0  \n",
       "2           1        1            0    2.188856        0  \n",
       "3           2        0            0    3.990834        0  \n",
       "4           1        1            0    2.202765        0  "
      ]
     },
     "execution_count": 24,
     "metadata": {},
     "output_type": "execute_result"
    }
   ],
   "source": [
    "df_clean = df.copy()\n",
    "\n",
    "# 1. Sex -> binary\n",
    "df_clean['Sex'] = df_clean['Sex'].map({'male': 1, 'female': 0})\n",
    "\n",
    "# 2. Title extraction\n",
    "df_clean['Title'] = df_clean['Name'].str.extract(r',\\s*([^\\.]+)\\.', expand=False)\n",
    "df_clean['Title'] = df_clean['Title'].str.strip()\n",
    "# Simplify titles\n",
    "def simplify_title(t):\n",
    "    if pd.isna(t): return 'Other'\n",
    "    t = t.title()\n",
    "    if t in ['Mr', 'Mrs', 'Miss', 'Master']:\n",
    "        return t\n",
    "    if t in ['Mlle','Ms']:\n",
    "        return 'Miss'\n",
    "    if t in ['Mme']:\n",
    "        return 'Mrs'\n",
    "    return 'Other'\n",
    "df_clean['Title'] = df_clean['Title'].apply(simplify_title)\n",
    "\n",
    "# 3. Family size\n",
    "df_clean['FamilySize'] = df_clean['SibSp'] + df_clean['Parch'] + 1\n",
    "df_clean['IsAlone'] = (df_clean['FamilySize'] == 1).astype(int)\n",
    "df_clean['LargeFamily'] = (df_clean['FamilySize'] >= 5).astype(int)\n",
    "\n",
    "# 4. Fare log transform - fill zeros if any then log1p\n",
    "df_clean['Fare'] = df_clean['Fare'].fillna(0)\n",
    "df_clean['Fare_log1p'] = np.log1p(df_clean['Fare'])\n",
    "\n",
    "# 5. Age imputation handled in pipeline, but create IsChild for demonstration (use median to fill for now)\n",
    "df_clean['Age'] = df_clean['Age'].fillna(df_clean['Age'].median())\n",
    "df_clean['IsChild'] = (df_clean['Age'] < 12).astype(int)\n",
    "\n",
    "# Drop unneeded columns for baseline\n",
    "drop_cols = ['Cabin', 'Ticket', 'PassengerId', 'Name']\n",
    "df_clean = df_clean.drop(columns=[c for c in drop_cols if c in df_clean.columns])\n",
    "\n",
    "df_clean.head()\n"
   ]
  },
  {
   "cell_type": "code",
   "execution_count": 27,
   "id": "863a0fef-3bee-4048-b563-d9fa26a5fcab",
   "metadata": {},
   "outputs": [
    {
     "data": {
      "text/html": [
       "<div>\n",
       "<style scoped>\n",
       "    .dataframe tbody tr th:only-of-type {\n",
       "        vertical-align: middle;\n",
       "    }\n",
       "\n",
       "    .dataframe tbody tr th {\n",
       "        vertical-align: top;\n",
       "    }\n",
       "\n",
       "    .dataframe thead th {\n",
       "        text-align: right;\n",
       "    }\n",
       "</style>\n",
       "<table border=\"1\" class=\"dataframe\">\n",
       "  <thead>\n",
       "    <tr style=\"text-align: right;\">\n",
       "      <th></th>\n",
       "      <th>Pclass</th>\n",
       "      <th>Sex</th>\n",
       "      <th>Age</th>\n",
       "      <th>Fare_log1p</th>\n",
       "      <th>FamilySize</th>\n",
       "      <th>IsAlone</th>\n",
       "      <th>IsChild</th>\n",
       "      <th>Title</th>\n",
       "      <th>Embarked</th>\n",
       "    </tr>\n",
       "  </thead>\n",
       "  <tbody>\n",
       "    <tr>\n",
       "      <th>0</th>\n",
       "      <td>3</td>\n",
       "      <td>1</td>\n",
       "      <td>22.0</td>\n",
       "      <td>2.110213</td>\n",
       "      <td>2</td>\n",
       "      <td>0</td>\n",
       "      <td>0</td>\n",
       "      <td>Mr</td>\n",
       "      <td>S</td>\n",
       "    </tr>\n",
       "    <tr>\n",
       "      <th>1</th>\n",
       "      <td>1</td>\n",
       "      <td>0</td>\n",
       "      <td>38.0</td>\n",
       "      <td>4.280593</td>\n",
       "      <td>2</td>\n",
       "      <td>0</td>\n",
       "      <td>0</td>\n",
       "      <td>Mrs</td>\n",
       "      <td>C</td>\n",
       "    </tr>\n",
       "    <tr>\n",
       "      <th>2</th>\n",
       "      <td>3</td>\n",
       "      <td>0</td>\n",
       "      <td>26.0</td>\n",
       "      <td>2.188856</td>\n",
       "      <td>1</td>\n",
       "      <td>1</td>\n",
       "      <td>0</td>\n",
       "      <td>Miss</td>\n",
       "      <td>S</td>\n",
       "    </tr>\n",
       "    <tr>\n",
       "      <th>3</th>\n",
       "      <td>1</td>\n",
       "      <td>0</td>\n",
       "      <td>35.0</td>\n",
       "      <td>3.990834</td>\n",
       "      <td>2</td>\n",
       "      <td>0</td>\n",
       "      <td>0</td>\n",
       "      <td>Mrs</td>\n",
       "      <td>S</td>\n",
       "    </tr>\n",
       "    <tr>\n",
       "      <th>4</th>\n",
       "      <td>3</td>\n",
       "      <td>1</td>\n",
       "      <td>35.0</td>\n",
       "      <td>2.202765</td>\n",
       "      <td>1</td>\n",
       "      <td>1</td>\n",
       "      <td>0</td>\n",
       "      <td>Mr</td>\n",
       "      <td>S</td>\n",
       "    </tr>\n",
       "  </tbody>\n",
       "</table>\n",
       "</div>"
      ],
      "text/plain": [
       "   Pclass  Sex   Age  Fare_log1p  FamilySize  IsAlone  IsChild Title Embarked\n",
       "0       3    1  22.0    2.110213           2        0        0    Mr        S\n",
       "1       1    0  38.0    4.280593           2        0        0   Mrs        C\n",
       "2       3    0  26.0    2.188856           1        1        0  Miss        S\n",
       "3       1    0  35.0    3.990834           2        0        0   Mrs        S\n",
       "4       3    1  35.0    2.202765           1        1        0    Mr        S"
      ]
     },
     "execution_count": 27,
     "metadata": {},
     "output_type": "execute_result"
    }
   ],
   "source": [
    "# Select features to use (keeping it compact)\n",
    "features = [\n",
    "    'Pclass', 'Sex', 'Age', 'Fare_log1p', 'FamilySize', 'IsAlone', 'IsChild', 'Title', 'Embarked'\n",
    "]\n",
    "\n",
    "X = df_clean[features].copy()\n",
    "y = df_clean['Survived'].copy()\n",
    "\n",
    "# Simple check\n",
    "X.head()\n"
   ]
  },
  {
   "cell_type": "code",
   "execution_count": 28,
   "id": "debff748-97f7-43d2-a0fb-712d5d7311a6",
   "metadata": {},
   "outputs": [
    {
     "name": "stdout",
     "output_type": "stream",
     "text": [
      "Train: (712, 9) Test: (179, 9)\n"
     ]
    }
   ],
   "source": [
    "# Train/test split (stratify to preserve class ratio)\n",
    "X_train, X_test, y_train, y_test = train_test_split(\n",
    "    X, y, test_size=0.2, random_state=42, stratify=y\n",
    ")\n",
    "print(\"Train:\", X_train.shape, \"Test:\", X_test.shape)\n"
   ]
  },
  {
   "cell_type": "code",
   "execution_count": 29,
   "id": "3964c5c4-f42c-4d33-a72c-438c9256c5bc",
   "metadata": {},
   "outputs": [],
   "source": [
    "# Preprocessing: separate numeric and categorical columns\n",
    "numeric_features = ['Age', 'Fare_log1p', 'FamilySize']\n",
    "numeric_transformer = Pipeline(steps=[\n",
    "    ('imputer', SimpleImputer(strategy='median')),\n",
    "    ('scaler', StandardScaler())\n",
    "])\n",
    "\n",
    "categorical_features = ['Pclass', 'Sex', 'IsAlone', 'IsChild', 'Title', 'Embarked']\n",
    "# Note: Sex and Pclass are numeric-ish but treat as categorical to one-hot for interpretability\n",
    "categorical_transformer = Pipeline(steps=[\n",
    "    ('imputer', SimpleImputer(strategy='most_frequent')),\n",
    "    ('onehot', OneHotEncoder(handle_unknown='ignore'))\n",
    "])\n",
    "\n",
    "preprocessor = ColumnTransformer(\n",
    "    transformers=[\n",
    "        ('num', numeric_transformer, numeric_features),\n",
    "        ('cat', categorical_transformer, categorical_features)\n",
    "    ], remainder='drop'\n",
    ")\n"
   ]
  },
  {
   "cell_type": "code",
   "execution_count": 30,
   "id": "171986b3-e2f7-4a5f-a50b-d32218f2cc98",
   "metadata": {},
   "outputs": [
    {
     "name": "stdout",
     "output_type": "stream",
     "text": [
      "Trained logistic regression pipeline.\n"
     ]
    }
   ],
   "source": [
    "# Full pipeline with logistic regression\n",
    "clf = Pipeline(steps=[\n",
    "    ('preprocessor', preprocessor),\n",
    "    ('classifier', LogisticRegression(max_iter=1000, random_state=42))\n",
    "])\n",
    "\n",
    "clf.fit(X_train, y_train)\n",
    "print(\"Trained logistic regression pipeline.\")\n"
   ]
  },
  {
   "cell_type": "code",
   "execution_count": 31,
   "id": "945797bf-f827-47f4-84f2-1f5271be73c2",
   "metadata": {},
   "outputs": [
    {
     "name": "stdout",
     "output_type": "stream",
     "text": [
      "Accuracy: 0.8379888268156425\n",
      "Precision: 0.8125\n",
      "Recall: 0.7536231884057971\n",
      "F1: 0.7819548872180451\n",
      "ROC AUC: 0.872463768115942\n"
     ]
    }
   ],
   "source": [
    "# Predict and probabilities\n",
    "y_pred = clf.predict(X_test)\n",
    "y_prob = clf.predict_proba(X_test)[:, 1]\n",
    "\n",
    "# Metrics\n",
    "print(\"Accuracy:\", accuracy_score(y_test, y_pred))\n",
    "print(\"Precision:\", precision_score(y_test, y_pred))\n",
    "print(\"Recall:\", recall_score(y_test, y_pred))\n",
    "print(\"F1:\", f1_score(y_test, y_pred))\n",
    "print(\"ROC AUC:\", roc_auc_score(y_test, y_prob))\n"
   ]
  },
  {
   "cell_type": "code",
   "execution_count": 32,
   "id": "ca6b300d-b7b0-4094-bf6c-ca0cb124a0c3",
   "metadata": {},
   "outputs": [
    {
     "data": {
      "image/png": "[encoded data removed]",
      "text/plain": [
       "<Figure size 640x480 with 1 Axes>"
      ]
     },
     "metadata": {},
     "output_type": "display_data"
    },
    {
     "data": {
      "image/png": "[encoded data removed]",
      "text/plain": [
       "<Figure size 640x480 with 2 Axes>"
      ]
     },
     "metadata": {},
     "output_type": "display_data"
    }
   ],
   "source": [
    "# ROC curve\n",
    "RocCurveDisplay.from_estimator(clf, X_test, y_test)\n",
    "plt.show()\n",
    "\n",
    "# Confusion matrix\n",
    "cm = confusion_matrix(y_test, y_pred)\n",
    "sns.heatmap(cm, annot=True, fmt='d')\n",
    "plt.xlabel('Predicted')\n",
    "plt.ylabel('Actual')\n",
    "plt.title('Confusion Matrix')\n",
    "plt.show()\n"
   ]
  },
  {
   "cell_type": "code",
   "execution_count": 33,
   "id": "288472c7-1c7a-4587-b055-bd6c68c04822",
   "metadata": {},
   "outputs": [
    {
     "data": {
      "image/png": "[encoded data removed]",
      "text/plain": [
       "<Figure size 800x600 with 1 Axes>"
      ]
     },
     "metadata": {},
     "output_type": "display_data"
    }
   ],
   "source": [
    "# Pull feature names after preprocessing\n",
    "ohe = clf.named_steps['preprocessor'].named_transformers_['cat'].named_steps['onehot']\n",
    "ohe_feature_names = ohe.get_feature_names_out(categorical_features)\n",
    "num_feature_names = numeric_features\n",
    "feature_names = list(num_feature_names) + list(ohe_feature_names)\n",
    "\n",
    "coefs = clf.named_steps['classifier'].coef_[0]\n",
    "importance = pd.Series(coefs, index=feature_names).sort_values(ascending=False)\n",
    "importance.plot(kind='barh', figsize=(8,6))\n",
    "plt.title(\"Feature coefficients (Logistic Regression)\")\n",
    "plt.show()\n"
   ]
  },
  {
   "cell_type": "code",
   "execution_count": 34,
   "id": "983c6c2c-2a04-48ed-8b6c-879460d4e62c",
   "metadata": {},
   "outputs": [
    {
     "name": "stdout",
     "output_type": "stream",
     "text": [
      "Saved model to logistic_pipeline.joblib\n"
     ]
    }
   ],
   "source": [
    "# Save logistic pipeline (you can also save RF)\n",
    "joblib.dump(clf, \"logistic_pipeline.joblib\")\n",
    "# joblib.dump(rf_pipeline, \"rf_pipeline.joblib\")\n",
    "print(\"Saved model to logistic_pipeline.joblib\")\n"
   ]
  },
  {
   "cell_type": "code",
   "execution_count": 35,
   "id": "b4cb4730-e788-4cd5-846e-cda956ef24a2",
   "metadata": {},
   "outputs": [
    {
     "name": "stdout",
     "output_type": "stream",
     "text": [
      "Example 1: 0.9510482251500054\n",
      "Example 2: 0.0808974301321339\n",
      "Example 3: 0.6114745471705616\n"
     ]
    }
   ],
   "source": [
    "# Load (or use the already loaded clf)\n",
    "model = clf  # or joblib.load(\"logistic_pipeline.joblib\")\n",
    "\n",
    "def predict_survival(pclass, sex, age, fare, sibsp, parch, embarked, title):\n",
    "    \"\"\"\n",
    "    Return probability of survival (float 0-1)\n",
    "    Input types:\n",
    "    - pclass: int (1,2,3)\n",
    "    - sex: 'male' or 'female'\n",
    "    - age: float or int\n",
    "    - fare: float\n",
    "    - sibsp: int\n",
    "    - parch: int\n",
    "    - embarked: string 'C', 'Q', 'S'\n",
    "    - title: one of ['Mr','Mrs','Miss','Master','Other']\n",
    "    \"\"\"\n",
    "    sex_bin = 1 if sex.lower() == 'male' else 0\n",
    "    fam_size = sibsp + parch + 1\n",
    "    is_alone = 1 if fam_size == 1 else 0\n",
    "    is_child = 1 if age < 12 else 0\n",
    "    fare_log = np.log1p(fare if fare is not None else 0)\n",
    "    row = {\n",
    "        'Pclass': pclass,\n",
    "        'Sex': sex_bin,\n",
    "        'Age': age,\n",
    "        'Fare_log1p': fare_log,\n",
    "        'FamilySize': fam_size,\n",
    "        'IsAlone': is_alone,\n",
    "        'IsChild': is_child,\n",
    "        'Title': title,\n",
    "        'Embarked': embarked\n",
    "    }\n",
    "    df_row = pd.DataFrame([row])\n",
    "    prob = model.predict_proba(df_row)[:, 1][0]\n",
    "    return prob\n",
    "\n",
    "# Examples\n",
    "print(\"Example 1:\", predict_survival(1, 'female', 60, 80, 0, 0, 'C', 'Mrs'))\n",
    "print(\"Example 2:\", predict_survival(3, 'male', 25, 7.25, 0, 0, 'S', 'Mr'))\n",
    "print(\"Example 3:\", predict_survival(2, 'male', 8, 12.5, 2, 1, 'S', 'Master'))\n"
   ]
  }
 ],
 "metadata": {
  "kernelspec": {
   "display_name": "Python 3 (ipykernel)",
   "language": "python",
   "name": "python3"
  },
  "language_info": {
   "codemirror_mode": {
    "name": "ipython",
    "version": 3
   },
   "file_extension": ".py",
   "mimetype": "text/x-python",
   "name": "python",
   "nbconvert_exporter": "python",
   "pygments_lexer": "ipython3",
   "version": "3.13.5"
  }
 },
 "nbformat": 4,
 "nbformat_minor": 5
}
